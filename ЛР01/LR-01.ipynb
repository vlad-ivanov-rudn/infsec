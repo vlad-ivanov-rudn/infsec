{
 "cells": [
  {
   "cell_type": "code",
   "execution_count": 1,
   "id": "c9892746",
   "metadata": {},
   "outputs": [],
   "source": [
    "def cesar(text, step=3, w=0):\n",
    "    liters = 'ABCDEFGHIJKLMNOPQRSTUVWXYZABCDEFGHIJKLMNOPQRSTUVWXYZ'\n",
    "    res = ''\n",
    "    if w==0:\n",
    "        for i in text:\n",
    "            index = liters.find(i)\n",
    "            new_index = index + step\n",
    "            if i in liters:\n",
    "                res += liters[new_index]\n",
    "            else:\n",
    "                res += i\n",
    "    if w==1:\n",
    "        for i in text:\n",
    "            index = liters.find(i)\n",
    "            new_index = index - step\n",
    "            if i in liters:\n",
    "                res += liters[new_index]\n",
    "            else:\n",
    "                res += i\n",
    "    return res"
   ]
  },
  {
   "cell_type": "code",
   "execution_count": 2,
   "id": "035d91d9",
   "metadata": {},
   "outputs": [
    {
     "name": "stdout",
     "output_type": "stream",
     "text": [
      "HELLO RUDN - LIPPS VYHR - HELLO RUDN\n"
     ]
    }
   ],
   "source": [
    "s = 'HELLO RUDN'\n",
    "print(f'{s} - {cesar(s, 4, 0)} - {cesar(cesar(s, 4, 0), 4, 1)}')"
   ]
  },
  {
   "cell_type": "code",
   "execution_count": 12,
   "id": "f0d541d4",
   "metadata": {},
   "outputs": [],
   "source": [
    "def atbash(text, w=0):\n",
    "    liters = 'ABCDEFGHIJKLMNOPQRSTUVWXYZ '\n",
    "    liters_r = [x for x in liters]\n",
    "    liters_r.reverse()\n",
    "    res = ''\n",
    "    if w == 0:\n",
    "        for i in text:\n",
    "            for j,l in enumerate(liters):\n",
    "                if i==l:\n",
    "                    res += liters_r[j]\n",
    "    if w == 1:\n",
    "        for i in text:\n",
    "            for j,l in enumerate(liters_r):\n",
    "                if i==l:\n",
    "                    res += liters[j]\n",
    "    return res"
   ]
  },
  {
   "cell_type": "code",
   "execution_count": 13,
   "id": "1ed18032",
   "metadata": {},
   "outputs": [
    {
     "name": "stdout",
     "output_type": "stream",
     "text": [
      "HELLO RUDN - TWPPMAJGXN - HELLO RUDN\n"
     ]
    }
   ],
   "source": [
    "s = 'HELLO RUDN'\n",
    "print(f'{s} - {atbash(s, 0)} - {atbash(atbash(s, 0), 1)}')"
   ]
  },
  {
   "cell_type": "code",
   "execution_count": null,
   "id": "3317e7de",
   "metadata": {},
   "outputs": [],
   "source": []
  }
 ],
 "metadata": {
  "kernelspec": {
   "display_name": "Python 3 (ipykernel)",
   "language": "python",
   "name": "python3"
  },
  "language_info": {
   "codemirror_mode": {
    "name": "ipython",
    "version": 3
   },
   "file_extension": ".py",
   "mimetype": "text/x-python",
   "name": "python",
   "nbconvert_exporter": "python",
   "pygments_lexer": "ipython3",
   "version": "3.9.9"
  }
 },
 "nbformat": 4,
 "nbformat_minor": 5
}
